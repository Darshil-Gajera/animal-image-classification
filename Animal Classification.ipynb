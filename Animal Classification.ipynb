{
  "nbformat": 4,
  "nbformat_minor": 0,
  "metadata": {
    "colab": {
      "provenance": []
    },
    "kernelspec": {
      "name": "python3",
      "display_name": "Python 3"
    },
    "language_info": {
      "name": "python"
    }
  },
  "cells": [
    {
      "cell_type": "code",
      "execution_count": null,
      "metadata": {
        "id": "pGNjA3ias5PJ"
      },
      "outputs": [],
      "source": [
        "import numpy as np\n",
        "from tensorflow.keras.preprocessing import image\n",
        "from tensorflow.keras.models import load_model\n",
        "\n",
        "# Load the trained model\n",
        "model = load_model(\"animal_classifier.h5\")\n",
        "\n",
        "# Load and preprocess image\n",
        "img = image.load_img(\"/content/download.jpg\", target_size=(128, 128))\n",
        "img_array = image.img_to_array(img) / 255.0\n",
        "img_array = np.expand_dims(img_array, axis=0)\n",
        "\n",
        "# Predict\n",
        "pred = model.predict(img_array)\n",
        "class_idx = np.argmax(pred)\n",
        "\n",
        "# Define the labels in the same order as during training\n",
        "# (⚠️ must match the original dataset folder order)\n",
        "class_labels = [\n",
        "    'cavallo',     # horse\n",
        "    'dog',         # dog\n",
        "    'elefante',    # elephant\n",
        "    'farfalla',    # butterfly\n",
        "    'gallina',     # chicken\n",
        "    'gatto',       # cat\n",
        "    'mucca',       # cow\n",
        "    'pecora',      # sheep\n",
        "    'scoiattolo'   # squirrel\n",
        "]\n",
        "\n",
        "# Map Italian labels to English\n",
        "mappings = {\n",
        "    'cavallo': 'horse',\n",
        "    'dog': 'dog',\n",
        "    'elefante': 'elephant',\n",
        "    'farfalla': 'butterfly',\n",
        "    'gallina': 'chicken',\n",
        "    'gatto': 'cat',\n",
        "    'mucca': 'cow',\n",
        "    'pecora': 'sheep',\n",
        "    'scoiattolo': 'squirrel',\n",
        "}\n",
        "\n",
        "# Get prediction\n",
        "class_label = class_labels[class_idx]\n",
        "print(\"Predicted Animal:\", mappings[class_label])\n"
      ]
    }
  ]
}